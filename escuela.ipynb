{
 "cells": [
  {
   "cell_type": "code",
   "execution_count": 1,
   "metadata": {},
   "outputs": [],
   "source": [
    "# importing pandas\n",
    "import pandas\n",
    "# calling packages\n",
    "import pandas as pd\n",
    "import matplotlib.pyplot as plt"
   ]
  },
  {
   "cell_type": "code",
   "execution_count": 28,
   "metadata": {},
   "outputs": [
    {
     "name": "stdout",
     "output_type": "stream",
     "text": [
      "       Apoyo Económico\n",
      "count         7.000000\n",
      "mean        214.285714\n",
      "std          37.796447\n",
      "min         200.000000\n",
      "25%         200.000000\n",
      "50%         200.000000\n",
      "75%         200.000000\n",
      "max         300.000000\n"
     ]
    }
   ],
   "source": [
    "# loading file & describing data \n",
    "try:\n",
    "    df = pd.read_excel('Aceptados_clean.xlsx')\n",
    "    print(df.describe())\n",
    "except Exception as e:\n",
    "    print(f\"Error: {e}\")"
   ]
  },
  {
   "cell_type": "code",
   "execution_count": 58,
   "metadata": {},
   "outputs": [
    {
     "name": "stdout",
     "output_type": "stream",
     "text": [
      "                  name                                    institution  \\\n",
      "0      Jose Ivan Nieva                Universidad Nacional de Cordoba   \n",
      "1  Yolbeiker Rodríguez  Pontificia Universidad Catolica de Valparaiso   \n",
      "2        Santiago Rios                           Universidad de Chile   \n",
      "\n",
      "  citizenship gender economic_support background_gr programming_skills  \\\n",
      "0   Argentina      M               Si            SI                 SI   \n",
      "1   Venezuela      M               No            SI                 SI   \n",
      "2       Chile      M               No            SI                 SI   \n",
      "\n",
      "  academic_level                          email       field  money  count  \\\n",
      "0    PHD STUDENT             ivan.nva@gmail.com      Fisica  300.0      1   \n",
      "1        POSTDOC  yolbeiker.rodriguez@gmail.com      Fisica    NaN      1   \n",
      "2    MSC STUDENT  santiagoriosherrera@gmail.com  Astronomia    NaN      1   \n",
      "\n",
      "          location  \n",
      "0  another country  \n",
      "1           Region  \n",
      "2         Santiago  \n"
     ]
    }
   ],
   "source": [
    "print(df.head(3))"
   ]
  },
  {
   "cell_type": "code",
   "execution_count": 31,
   "metadata": {},
   "outputs": [],
   "source": [
    "#renaming columns\n",
    "df.columns = ['name','institution', 'citizenship','gender','economic_support','background_gr','programming_skills','academic_level','email','field','money']"
   ]
  },
  {
   "cell_type": "code",
   "execution_count": 32,
   "metadata": {},
   "outputs": [],
   "source": [
    "#upper case\n",
    "df['academic_level'] = df['academic_level'].str.upper()\n",
    "df['background_gr']=df['background_gr'].str.upper()\n",
    "df['programming_skills']=df['programming_skills'].str.upper()"
   ]
  },
  {
   "cell_type": "code",
   "execution_count": 34,
   "metadata": {},
   "outputs": [
    {
     "name": "stdout",
     "output_type": "stream",
     "text": [
      "Fisica                    15\n",
      "Astronomia Fisica          8\n",
      "Matematicas                3\n",
      "Astronomia                 2\n",
      "Ingenieria Matematica      2\n",
      "Fisica-Matematica          1\n",
      "Computer Science           1\n",
      "Astronomia-Matematicas     1\n",
      "Astro                      1\n",
      "Fisico                     1\n",
      "Astronomia                 1\n",
      "Name: field, dtype: int64\n",
      "Fisica                   16\n",
      "Astronomia Fisica         8\n",
      "Astronomia                4\n",
      "Fisica-Matematica         4\n",
      "Ingenieria Matematica     2\n",
      "Computer Science          1\n",
      "Astronomia                1\n",
      "Name: field, dtype: int64\n"
     ]
    }
   ],
   "source": [
    "print(df['field'].value_counts())\n",
    "reemplazo = {'Astronomia-Matematicas': 'Astronomia', 'Astro': 'Astronomia','Fisico': 'Fisica','Matematicas': 'Fisica-Matematica'}\n",
    "df['field'] = df['field'].replace(reemplazo)\n",
    "print(df['field'].value_counts())"
   ]
  },
  {
   "cell_type": "code",
   "execution_count": 35,
   "metadata": {},
   "outputs": [
    {
     "name": "stdout",
     "output_type": "stream",
     "text": [
      "26               Fisica\n",
      "27    Astronomia Fisica\n",
      "28          Astronomia \n",
      "29    Astronomia Fisica\n",
      "30               Fisica\n",
      "31               Fisica\n",
      "32           Astronomia\n",
      "33               Fisica\n",
      "34               Fisica\n",
      "35    Astronomia Fisica\n",
      "Name: field, dtype: object\n",
      "name                            Felipe Vivanco\n",
      "institution           Universidad Andres Bello\n",
      "citizenship                              Chile\n",
      "gender                                       M\n",
      "economic_support                            No\n",
      "background_gr                               NO\n",
      "programming_skills                          SI\n",
      "academic_level                     PHD STUDENT\n",
      "email                          fvivanco@me.com\n",
      "field                              Astronomia \n",
      "money                                      NaN\n",
      "Name: 28, dtype: object\n"
     ]
    }
   ],
   "source": [
    "print(df['field'].tail(10))\n",
    "print(df.loc[28])"
   ]
  },
  {
   "cell_type": "code",
   "execution_count": 36,
   "metadata": {},
   "outputs": [
    {
     "name": "stdout",
     "output_type": "stream",
     "text": [
      "name                            Felipe Vivanco\n",
      "institution           Universidad Andres Bello\n",
      "citizenship                              Chile\n",
      "gender                                       M\n",
      "economic_support                            No\n",
      "background_gr                               NO\n",
      "programming_skills                          SI\n",
      "academic_level                     PHD STUDENT\n",
      "email                          fvivanco@me.com\n",
      "field                               Astronomia\n",
      "money                                      NaN\n",
      "Name: 28, dtype: object\n"
     ]
    }
   ],
   "source": [
    "df.at[28, 'field']='Astronomia'\n",
    "print(df.loc[28])"
   ]
  },
  {
   "cell_type": "code",
   "execution_count": 46,
   "metadata": {},
   "outputs": [
    {
     "name": "stdout",
     "output_type": "stream",
     "text": [
      "gender\n",
      "F     6\n",
      "M    30\n",
      "Name: gender, dtype: int64\n"
     ]
    }
   ],
   "source": [
    "#grouped_data = df.groupby('gender')\n",
    "print(grouped_data['gender'].count())\n",
    "df['count']= 1"
   ]
  },
  {
   "cell_type": "code",
   "execution_count": 47,
   "metadata": {},
   "outputs": [
    {
     "name": "stdout",
     "output_type": "stream",
     "text": [
      "16     SI\n",
      "17    SI \n",
      "18     SI\n",
      "19     SI\n",
      "20     SI\n",
      "21     SI\n",
      "22     SI\n",
      "23     SI\n",
      "24     SI\n",
      "25     SI\n",
      "26     SI\n",
      "27     NO\n",
      "28     NO\n",
      "29     SI\n",
      "30     SI\n",
      "31     SI\n",
      "32     NO\n",
      "33     SI\n",
      "34     SI\n",
      "35     SI\n",
      "Name: background_gr, dtype: object\n",
      "name                                  Daniel Jimenez\n",
      "institution                Universidad de Concepción\n",
      "citizenship                                    Chile\n",
      "gender                                             M\n",
      "economic_support                                  No\n",
      "background_gr                                    SI \n",
      "programming_skills                                SI\n",
      "academic_level                           MSC STUDENT\n",
      "email                 daniel.jimenez.parra@gmail.com\n",
      "field                                         Fisica\n",
      "money                                            NaN\n",
      "count                                              1\n",
      "Name: 17, dtype: object\n",
      "name                                  Daniel Jimenez\n",
      "institution                Universidad de Concepción\n",
      "citizenship                                    Chile\n",
      "gender                                             M\n",
      "economic_support                                  No\n",
      "background_gr                                     SI\n",
      "programming_skills                                SI\n",
      "academic_level                           MSC STUDENT\n",
      "email                 daniel.jimenez.parra@gmail.com\n",
      "field                                         Fisica\n",
      "money                                            NaN\n",
      "count                                              1\n",
      "Name: 17, dtype: object\n"
     ]
    }
   ],
   "source": [
    "print(df['background_gr'].tail(20))\n",
    "print(df.loc[17])\n",
    "df.at[17, 'background_gr']='SI'\n",
    "print(df.loc[17])"
   ]
  },
  {
   "cell_type": "code",
   "execution_count": 48,
   "metadata": {},
   "outputs": [
    {
     "name": "stdout",
     "output_type": "stream",
     "text": [
      "academic_level        MSC STUDENT  PHD STUDENT  POSTDOC  RESEARCHER\n",
      "gender background_gr                                               \n",
      "F      NO                       1            0        0           0\n",
      "       SI                       3            2        0           0\n",
      "M      NO                       1            1        0           1\n",
      "       SI                      13            6        4           4\n"
     ]
    }
   ],
   "source": [
    "table1 = pd.pivot_table(df, values='count', index=[ 'gender','background_gr'],columns=['academic_level'], aggfunc=\"sum\", fill_value=0)\n",
    "print(table1)"
   ]
  },
  {
   "cell_type": "code",
   "execution_count": 16,
   "metadata": {},
   "outputs": [
    {
     "name": "stdout",
     "output_type": "stream",
     "text": [
      "academic_level             MSC STUDENT  PHD STUDENT  POSTDOC  RESEARCHER\n",
      "gender programming_skills                                               \n",
      "F      NO                            1            2        0           0\n",
      "       SI                            3            0        0           0\n",
      "M      NO                            2            0        3           1\n",
      "       SI                           12            7        1           4\n"
     ]
    }
   ],
   "source": [
    "table2 = pd.pivot_table(df, values='count', index=[ 'gender','programming_skills'],columns=['academic_level'], aggfunc=\"sum\", fill_value=0)\n",
    "print(table2)"
   ]
  },
  {
   "cell_type": "code",
   "execution_count": 17,
   "metadata": {},
   "outputs": [
    {
     "name": "stdout",
     "output_type": "stream",
     "text": [
      "academic_level         MSC STUDENT  PHD STUDENT  POSTDOC  RESEARCHER\n",
      "field                                                               \n",
      "Astronomia                       2            2        0           1\n",
      "Astronomia Fisica                8            0        0           0\n",
      "Computer Science                 0            0        0           1\n",
      "Fisica                           6            6        3           1\n",
      "Fisica-Matematica                0            1        1           2\n",
      "Ingenieria Matematica            2            0        0           0\n"
     ]
    }
   ],
   "source": [
    "table3=pd.pivot_table(df, values='count', index=[ 'field'],columns=['academic_level'], aggfunc=\"sum\", fill_value=0)\n",
    "print(table3)\n"
   ]
  },
  {
   "cell_type": "code",
   "execution_count": 18,
   "metadata": {},
   "outputs": [
    {
     "name": "stdout",
     "output_type": "stream",
     "text": [
      "+-----------------------+-------------+-------------+---------+------------+\n",
      "|         Field         | MSC STUDENT | PHD STUDENT | POSTDOC | RESEARCHER |\n",
      "+-----------------------+-------------+-------------+---------+------------+\n",
      "|       Astronomia      |      2      |      2      |    0    |     1      |\n",
      "|   Astronomia Fisica   |      8      |      0      |    0    |     0      |\n",
      "|    Computer Science   |      0      |      0      |    0    |     1      |\n",
      "|         Fisica        |      6      |      6      |    3    |     1      |\n",
      "|   Fisica-Matematica   |      0      |      1      |    1    |     2      |\n",
      "| Ingenieria Matematica |      2      |      0      |    0    |     0      |\n",
      "+-----------------------+-------------+-------------+---------+------------+\n"
     ]
    }
   ],
   "source": [
    "from prettytable import PrettyTable\n",
    "pt3 = PrettyTable()\n",
    "pt3.field_names = [\"Field\", \"MSC STUDENT\",  \"PHD STUDENT\",  \"POSTDOC\", \"RESEARCHER\"]\n",
    "for index, row in table3.iterrows():\n",
    "    pt3.add_row([index, row[\"MSC STUDENT\"], row[\"PHD STUDENT\"],row[\"POSTDOC\"],row[\"RESEARCHER\"]])\n",
    "\n",
    "# Mostrar la tabla formateada\n",
    "print(pt3)\n"
   ]
  },
  {
   "cell_type": "code",
   "execution_count": 49,
   "metadata": {},
   "outputs": [
    {
     "name": "stdout",
     "output_type": "stream",
     "text": [
      "21                  Pontificia Universidad Católica\n",
      "22                  Pontificia Universidad Católica\n",
      "23                             Universidad de Chile\n",
      "24                             Universidad de Chile\n",
      "25                             Universidad de Chile\n",
      "26                             Universidad de Chile\n",
      "27                             Universidad de Chile\n",
      "28                         Universidad Andres Bello\n",
      "29    Pontificia Universidad Católica de Valparaiso\n",
      "30                        Universidad de Concepción\n",
      "31    Pontificia Universidad Católica de Valparaiso\n",
      "32                        Universidad de Concepción\n",
      "33                        Universidad de Concepción\n",
      "34                         Universidad de La Serena\n",
      "35    Pontificia Universidad Católica de Valparaiso\n",
      "Name: institution, dtype: object\n"
     ]
    }
   ],
   "source": [
    "print(df['institution'].tail(15))"
   ]
  },
  {
   "cell_type": "code",
   "execution_count": 50,
   "metadata": {},
   "outputs": [
    {
     "name": "stdout",
     "output_type": "stream",
     "text": [
      "Porcentaje de extranjeros: 25.0\n",
      "Número de chilenos: 27\n"
     ]
    }
   ],
   "source": [
    "foreigners = df[df['citizenship'] != 'Chile']\n",
    "n_foreigners = len(foreigners)\n",
    "n_chile=len(df[df['citizenship'] == 'Chile'])\n",
    "print(\"Porcentaje de extranjeros:\",n_foreigners*100/(n_foreigners+n_chile) )\n",
    "print(\"Número de chilenos:\",n_chile )"
   ]
  },
  {
   "cell_type": "code",
   "execution_count": 51,
   "metadata": {},
   "outputs": [
    {
     "name": "stdout",
     "output_type": "stream",
     "text": [
      "Número de mujeres: 6\n",
      "Porcentaje de mujeres: 14.285714285714286\n",
      "Número de hombres: 30\n"
     ]
    }
   ],
   "source": [
    "gender_F = df[df['gender'] == 'F']\n",
    "all=len(df['gender'])\n",
    "n_gender_F = len(gender_F)\n",
    "print(\"Número de mujeres:\",n_gender_F )\n",
    "print(\"Porcentaje de mujeres:\",n_gender_F*100/(n_gender_F+all) )\n",
    "\n",
    "print(\"Número de hombres:\", (all-n_gender_F))"
   ]
  },
  {
   "cell_type": "code",
   "execution_count": 52,
   "metadata": {},
   "outputs": [
    {
     "name": "stdout",
     "output_type": "stream",
     "text": [
      "Universidad de Chile                             8\n",
      "Universidad de Concepción                        6\n",
      "Pontificia Universidad Católica de Valparaiso    4\n",
      "Universidad de La Serena                         3\n",
      "Pontificia Universidad Católica                  3\n",
      "Universidad de Santiago de Chile                 2\n",
      "Universidad Nacional de Cordoba                  1\n",
      "Universidad De Chile                             1\n",
      "Universidad de Cordoba                           1\n",
      "Universidad Industrial de Santander              1\n",
      "Universidad Austral                              1\n",
      "CMM Data Science                                 1\n",
      "CMM Matematicas                                  1\n",
      "Universität Bielefeld                            1\n",
      "Universidad Mayor                                1\n",
      "Universidad Andres Bello                         1\n",
      "Name: institution, dtype: int64\n"
     ]
    }
   ],
   "source": [
    "print(df['institution'].value_counts())\n",
    "reemplazo2 = {'Universidad de Concepción': 'Universidad de Concepcion', 'Pontificia Universidad Católica de Valparaiso': 'Pontificia Universidad Catolica de Valparaiso','Pontificia Universidad Católica': 'Pontificia Universidad Catolica de Chile','Universidad De Chile': 'Universidad de Chile'}\n",
    "df['institution'] = df['institution'].replace(reemplazo2)"
   ]
  },
  {
   "cell_type": "code",
   "execution_count": 53,
   "metadata": {},
   "outputs": [
    {
     "name": "stdout",
     "output_type": "stream",
     "text": [
      "Universidad de Chile                             9\n",
      "Universidad de Concepcion                        6\n",
      "Pontificia Universidad Catolica de Valparaiso    4\n",
      "Universidad de La Serena                         3\n",
      "Pontificia Universidad Catolica de Chile         3\n",
      "Universidad de Santiago de Chile                 2\n",
      "Universidad Nacional de Cordoba                  1\n",
      "Universidad de Cordoba                           1\n",
      "Universidad Industrial de Santander              1\n",
      "Universidad Austral                              1\n",
      "CMM Data Science                                 1\n",
      "CMM Matematicas                                  1\n",
      "Universität Bielefeld                            1\n",
      "Universidad Mayor                                1\n",
      "Universidad Andres Bello                         1\n",
      "Name: institution, dtype: int64\n"
     ]
    }
   ],
   "source": [
    "print(df['institution'].value_counts())"
   ]
  },
  {
   "cell_type": "code",
   "execution_count": 54,
   "metadata": {},
   "outputs": [
    {
     "name": "stdout",
     "output_type": "stream",
     "text": [
      "0    another country\n",
      "1             Region\n",
      "2           Santiago\n",
      "3    another country\n",
      "4    another country\n",
      "Name: location, dtype: object\n"
     ]
    }
   ],
   "source": [
    "# Función para asignar región o capital\n",
    "def f_region(institution):\n",
    "    if \"Valparaiso\" in institution:\n",
    "        return \"Region\"\n",
    "    elif \"Concepcion\" in institution:\n",
    "        return \"Region\"\n",
    "    elif \"Serena\" in institution:\n",
    "        return \"Region\"\n",
    "    elif \"Austral\" in institution:\n",
    "        return \"Region\"\n",
    "    elif \"Mayor\" in institution:\n",
    "        return \"Santiago\"\n",
    "    elif \"Chile\" in institution:\n",
    "        return \"Santiago\"\n",
    "    elif \"CMM\" in institution:\n",
    "        return \"Santiago\"\n",
    "    elif \"Bello\" in institution:\n",
    "        return \"Santiago\"\n",
    "    # Puedes agregar más condiciones según tus necesidades\n",
    "    else:\n",
    "        return \"another country\"\n",
    "\n",
    "# Aplicar la función para crear la nueva columna\n",
    "df['location'] = df['institution'].apply(f_region)\n",
    "\n",
    "# Mostrar el DataFrame resultante\n",
    "print(df['location'].head(5))\n"
   ]
  },
  {
   "cell_type": "code",
   "execution_count": 55,
   "metadata": {},
   "outputs": [
    {
     "name": "stdout",
     "output_type": "stream",
     "text": [
      "Número de regiones: 14\n"
     ]
    }
   ],
   "source": [
    "regions = df[df['location'] == 'Region']\n",
    "n_regions = len(regions)\n",
    "print(\"Número de regiones:\",n_regions )"
   ]
  },
  {
   "cell_type": "code",
   "execution_count": 56,
   "metadata": {},
   "outputs": [
    {
     "name": "stdout",
     "output_type": "stream",
     "text": [
      "gender           F   M\n",
      "location              \n",
      "Region           4  10\n",
      "Santiago         2  16\n",
      "another country  0   4\n"
     ]
    }
   ],
   "source": [
    "table4=pd.pivot_table(df, values='count', index=['location'],columns=['gender'], aggfunc=\"sum\", fill_value=0)\n",
    "print(table4)"
   ]
  },
  {
   "cell_type": "code",
   "execution_count": 57,
   "metadata": {},
   "outputs": [
    {
     "name": "stdout",
     "output_type": "stream",
     "text": [
      "+-----------------+---+----+\n",
      "|      gender     | F | M  |\n",
      "+-----------------+---+----+\n",
      "|      Region     | 4 | 10 |\n",
      "|     Santiago    | 2 | 16 |\n",
      "| another country | 0 | 4  |\n",
      "+-----------------+---+----+\n"
     ]
    }
   ],
   "source": [
    "from prettytable import PrettyTable\n",
    "pt4 = PrettyTable()\n",
    "pt4.field_names = [\"gender\", \"F\",  \"M\"]\n",
    "for index, row in table4.iterrows():\n",
    "    pt4.add_row([index, row[\"F\"], row[\"M\"]])\n",
    "\n",
    "# Mostrar la tabla formateada\n",
    "print(pt4)\n"
   ]
  }
 ],
 "metadata": {
  "kernelspec": {
   "display_name": "Python 3 (ipykernel)",
   "language": "python",
   "name": "python3"
  },
  "language_info": {
   "codemirror_mode": {
    "name": "ipython",
    "version": 3
   },
   "file_extension": ".py",
   "mimetype": "text/x-python",
   "name": "python",
   "nbconvert_exporter": "python",
   "pygments_lexer": "ipython3",
   "version": "3.11.1"
  }
 },
 "nbformat": 4,
 "nbformat_minor": 4
}
